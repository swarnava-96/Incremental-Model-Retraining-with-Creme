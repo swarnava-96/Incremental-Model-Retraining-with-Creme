{
  "nbformat": 4,
  "nbformat_minor": 0,
  "metadata": {
    "colab": {
      "name": "Logistic_Regression",
      "provenance": [],
      "collapsed_sections": [],
      "authorship_tag": "ABX9TyOwGtkh+hY0SpLBJfNGlZDA",
      "include_colab_link": true
    },
    "kernelspec": {
      "name": "python3",
      "display_name": "Python 3"
    },
    "language_info": {
      "name": "python"
    }
  },
  "cells": [
    {
      "cell_type": "markdown",
      "metadata": {
        "id": "view-in-github",
        "colab_type": "text"
      },
      "source": [
        "<a href=\"https://colab.research.google.com/github/swarnava-96/Incremental-Model-Retraining-with-Creme/blob/main/Logistic_Regression.ipynb\" target=\"_parent\"><img src=\"https://colab.research.google.com/assets/colab-badge.svg\" alt=\"Open In Colab\"/></a>"
      ]
    },
    {
      "cell_type": "markdown",
      "metadata": {
        "id": "74Y7huQkcH8M"
      },
      "source": [
        "# **Logistic Regression with Creme**"
      ]
    },
    {
      "cell_type": "code",
      "metadata": {
        "colab": {
          "base_uri": "https://localhost:8080/"
        },
        "id": "Qy80-WFAcRCN",
        "outputId": "bd419e2e-63e4-4a22-d881-903f3424c82b"
      },
      "source": [
        "# Lets install the Creme library\n",
        "!pip install creme"
      ],
      "execution_count": 1,
      "outputs": [
        {
          "output_type": "stream",
          "name": "stdout",
          "text": [
            "Collecting creme\n",
            "  Downloading creme-0.6.1-cp37-cp37m-manylinux2010_x86_64.whl (1.1 MB)\n",
            "\u001b[?25l\r\u001b[K     |▎                               | 10 kB 25.2 MB/s eta 0:00:01\r\u001b[K     |▋                               | 20 kB 31.0 MB/s eta 0:00:01\r\u001b[K     |▉                               | 30 kB 36.0 MB/s eta 0:00:01\r\u001b[K     |█▏                              | 40 kB 38.0 MB/s eta 0:00:01\r\u001b[K     |█▌                              | 51 kB 39.9 MB/s eta 0:00:01\r\u001b[K     |█▊                              | 61 kB 42.5 MB/s eta 0:00:01\r\u001b[K     |██                              | 71 kB 30.7 MB/s eta 0:00:01\r\u001b[K     |██▍                             | 81 kB 32.0 MB/s eta 0:00:01\r\u001b[K     |██▋                             | 92 kB 33.8 MB/s eta 0:00:01\r\u001b[K     |███                             | 102 kB 30.4 MB/s eta 0:00:01\r\u001b[K     |███▎                            | 112 kB 30.4 MB/s eta 0:00:01\r\u001b[K     |███▌                            | 122 kB 30.4 MB/s eta 0:00:01\r\u001b[K     |███▉                            | 133 kB 30.4 MB/s eta 0:00:01\r\u001b[K     |████                            | 143 kB 30.4 MB/s eta 0:00:01\r\u001b[K     |████▍                           | 153 kB 30.4 MB/s eta 0:00:01\r\u001b[K     |████▊                           | 163 kB 30.4 MB/s eta 0:00:01\r\u001b[K     |█████                           | 174 kB 30.4 MB/s eta 0:00:01\r\u001b[K     |█████▎                          | 184 kB 30.4 MB/s eta 0:00:01\r\u001b[K     |█████▋                          | 194 kB 30.4 MB/s eta 0:00:01\r\u001b[K     |█████▉                          | 204 kB 30.4 MB/s eta 0:00:01\r\u001b[K     |██████▏                         | 215 kB 30.4 MB/s eta 0:00:01\r\u001b[K     |██████▌                         | 225 kB 30.4 MB/s eta 0:00:01\r\u001b[K     |██████▊                         | 235 kB 30.4 MB/s eta 0:00:01\r\u001b[K     |███████                         | 245 kB 30.4 MB/s eta 0:00:01\r\u001b[K     |███████▍                        | 256 kB 30.4 MB/s eta 0:00:01\r\u001b[K     |███████▋                        | 266 kB 30.4 MB/s eta 0:00:01\r\u001b[K     |████████                        | 276 kB 30.4 MB/s eta 0:00:01\r\u001b[K     |████████▏                       | 286 kB 30.4 MB/s eta 0:00:01\r\u001b[K     |████████▌                       | 296 kB 30.4 MB/s eta 0:00:01\r\u001b[K     |████████▉                       | 307 kB 30.4 MB/s eta 0:00:01\r\u001b[K     |█████████                       | 317 kB 30.4 MB/s eta 0:00:01\r\u001b[K     |█████████▍                      | 327 kB 30.4 MB/s eta 0:00:01\r\u001b[K     |█████████▊                      | 337 kB 30.4 MB/s eta 0:00:01\r\u001b[K     |██████████                      | 348 kB 30.4 MB/s eta 0:00:01\r\u001b[K     |██████████▎                     | 358 kB 30.4 MB/s eta 0:00:01\r\u001b[K     |██████████▋                     | 368 kB 30.4 MB/s eta 0:00:01\r\u001b[K     |██████████▉                     | 378 kB 30.4 MB/s eta 0:00:01\r\u001b[K     |███████████▏                    | 389 kB 30.4 MB/s eta 0:00:01\r\u001b[K     |███████████▍                    | 399 kB 30.4 MB/s eta 0:00:01\r\u001b[K     |███████████▊                    | 409 kB 30.4 MB/s eta 0:00:01\r\u001b[K     |████████████                    | 419 kB 30.4 MB/s eta 0:00:01\r\u001b[K     |████████████▎                   | 430 kB 30.4 MB/s eta 0:00:01\r\u001b[K     |████████████▋                   | 440 kB 30.4 MB/s eta 0:00:01\r\u001b[K     |█████████████                   | 450 kB 30.4 MB/s eta 0:00:01\r\u001b[K     |█████████████▏                  | 460 kB 30.4 MB/s eta 0:00:01\r\u001b[K     |█████████████▌                  | 471 kB 30.4 MB/s eta 0:00:01\r\u001b[K     |█████████████▉                  | 481 kB 30.4 MB/s eta 0:00:01\r\u001b[K     |██████████████                  | 491 kB 30.4 MB/s eta 0:00:01\r\u001b[K     |██████████████▍                 | 501 kB 30.4 MB/s eta 0:00:01\r\u001b[K     |██████████████▊                 | 512 kB 30.4 MB/s eta 0:00:01\r\u001b[K     |███████████████                 | 522 kB 30.4 MB/s eta 0:00:01\r\u001b[K     |███████████████▎                | 532 kB 30.4 MB/s eta 0:00:01\r\u001b[K     |███████████████▌                | 542 kB 30.4 MB/s eta 0:00:01\r\u001b[K     |███████████████▉                | 552 kB 30.4 MB/s eta 0:00:01\r\u001b[K     |████████████████▏               | 563 kB 30.4 MB/s eta 0:00:01\r\u001b[K     |████████████████▍               | 573 kB 30.4 MB/s eta 0:00:01\r\u001b[K     |████████████████▊               | 583 kB 30.4 MB/s eta 0:00:01\r\u001b[K     |█████████████████               | 593 kB 30.4 MB/s eta 0:00:01\r\u001b[K     |█████████████████▎              | 604 kB 30.4 MB/s eta 0:00:01\r\u001b[K     |█████████████████▋              | 614 kB 30.4 MB/s eta 0:00:01\r\u001b[K     |██████████████████              | 624 kB 30.4 MB/s eta 0:00:01\r\u001b[K     |██████████████████▏             | 634 kB 30.4 MB/s eta 0:00:01\r\u001b[K     |██████████████████▌             | 645 kB 30.4 MB/s eta 0:00:01\r\u001b[K     |██████████████████▊             | 655 kB 30.4 MB/s eta 0:00:01\r\u001b[K     |███████████████████             | 665 kB 30.4 MB/s eta 0:00:01\r\u001b[K     |███████████████████▍            | 675 kB 30.4 MB/s eta 0:00:01\r\u001b[K     |███████████████████▋            | 686 kB 30.4 MB/s eta 0:00:01\r\u001b[K     |████████████████████            | 696 kB 30.4 MB/s eta 0:00:01\r\u001b[K     |████████████████████▎           | 706 kB 30.4 MB/s eta 0:00:01\r\u001b[K     |████████████████████▌           | 716 kB 30.4 MB/s eta 0:00:01\r\u001b[K     |████████████████████▉           | 727 kB 30.4 MB/s eta 0:00:01\r\u001b[K     |█████████████████████▏          | 737 kB 30.4 MB/s eta 0:00:01\r\u001b[K     |█████████████████████▍          | 747 kB 30.4 MB/s eta 0:00:01\r\u001b[K     |█████████████████████▊          | 757 kB 30.4 MB/s eta 0:00:01\r\u001b[K     |██████████████████████          | 768 kB 30.4 MB/s eta 0:00:01\r\u001b[K     |██████████████████████▎         | 778 kB 30.4 MB/s eta 0:00:01\r\u001b[K     |██████████████████████▋         | 788 kB 30.4 MB/s eta 0:00:01\r\u001b[K     |██████████████████████▉         | 798 kB 30.4 MB/s eta 0:00:01\r\u001b[K     |███████████████████████▏        | 808 kB 30.4 MB/s eta 0:00:01\r\u001b[K     |███████████████████████▌        | 819 kB 30.4 MB/s eta 0:00:01\r\u001b[K     |███████████████████████▊        | 829 kB 30.4 MB/s eta 0:00:01\r\u001b[K     |████████████████████████        | 839 kB 30.4 MB/s eta 0:00:01\r\u001b[K     |████████████████████████▍       | 849 kB 30.4 MB/s eta 0:00:01\r\u001b[K     |████████████████████████▋       | 860 kB 30.4 MB/s eta 0:00:01\r\u001b[K     |█████████████████████████       | 870 kB 30.4 MB/s eta 0:00:01\r\u001b[K     |█████████████████████████▎      | 880 kB 30.4 MB/s eta 0:00:01\r\u001b[K     |█████████████████████████▌      | 890 kB 30.4 MB/s eta 0:00:01\r\u001b[K     |█████████████████████████▉      | 901 kB 30.4 MB/s eta 0:00:01\r\u001b[K     |██████████████████████████▏     | 911 kB 30.4 MB/s eta 0:00:01\r\u001b[K     |██████████████████████████▍     | 921 kB 30.4 MB/s eta 0:00:01\r\u001b[K     |██████████████████████████▊     | 931 kB 30.4 MB/s eta 0:00:01\r\u001b[K     |███████████████████████████     | 942 kB 30.4 MB/s eta 0:00:01\r\u001b[K     |███████████████████████████▎    | 952 kB 30.4 MB/s eta 0:00:01\r\u001b[K     |███████████████████████████▋    | 962 kB 30.4 MB/s eta 0:00:01\r\u001b[K     |███████████████████████████▉    | 972 kB 30.4 MB/s eta 0:00:01\r\u001b[K     |████████████████████████████▏   | 983 kB 30.4 MB/s eta 0:00:01\r\u001b[K     |████████████████████████████▌   | 993 kB 30.4 MB/s eta 0:00:01\r\u001b[K     |████████████████████████████▊   | 1.0 MB 30.4 MB/s eta 0:00:01\r\u001b[K     |█████████████████████████████   | 1.0 MB 30.4 MB/s eta 0:00:01\r\u001b[K     |█████████████████████████████▍  | 1.0 MB 30.4 MB/s eta 0:00:01\r\u001b[K     |█████████████████████████████▋  | 1.0 MB 30.4 MB/s eta 0:00:01\r\u001b[K     |██████████████████████████████  | 1.0 MB 30.4 MB/s eta 0:00:01\r\u001b[K     |██████████████████████████████▏ | 1.1 MB 30.4 MB/s eta 0:00:01\r\u001b[K     |██████████████████████████████▌ | 1.1 MB 30.4 MB/s eta 0:00:01\r\u001b[K     |██████████████████████████████▉ | 1.1 MB 30.4 MB/s eta 0:00:01\r\u001b[K     |███████████████████████████████ | 1.1 MB 30.4 MB/s eta 0:00:01\r\u001b[K     |███████████████████████████████▍| 1.1 MB 30.4 MB/s eta 0:00:01\r\u001b[K     |███████████████████████████████▊| 1.1 MB 30.4 MB/s eta 0:00:01\r\u001b[K     |████████████████████████████████| 1.1 MB 30.4 MB/s eta 0:00:01\r\u001b[K     |████████████████████████████████| 1.1 MB 30.4 MB/s \n",
            "\u001b[?25hRequirement already satisfied: pandas>=1.0.1 in /usr/local/lib/python3.7/dist-packages (from creme) (1.1.5)\n",
            "Collecting mmh3==2.5.1\n",
            "  Downloading mmh3-2.5.1.tar.gz (9.8 kB)\n",
            "Requirement already satisfied: scipy>=1.4.1 in /usr/local/lib/python3.7/dist-packages (from creme) (1.4.1)\n",
            "Requirement already satisfied: numpy>=1.18.1 in /usr/local/lib/python3.7/dist-packages (from creme) (1.19.5)\n",
            "Requirement already satisfied: python-dateutil>=2.7.3 in /usr/local/lib/python3.7/dist-packages (from pandas>=1.0.1->creme) (2.8.2)\n",
            "Requirement already satisfied: pytz>=2017.2 in /usr/local/lib/python3.7/dist-packages (from pandas>=1.0.1->creme) (2018.9)\n",
            "Requirement already satisfied: six>=1.5 in /usr/local/lib/python3.7/dist-packages (from python-dateutil>=2.7.3->pandas>=1.0.1->creme) (1.15.0)\n",
            "Building wheels for collected packages: mmh3\n",
            "  Building wheel for mmh3 (setup.py) ... \u001b[?25l\u001b[?25hdone\n",
            "  Created wheel for mmh3: filename=mmh3-2.5.1-cp37-cp37m-linux_x86_64.whl size=39688 sha256=a195904b7e9ecf15a8098953b4aab2404762b78e371366f60db6071884a7f595\n",
            "  Stored in directory: /root/.cache/pip/wheels/ae/45/25/90e097a519143b2dca74cd93a056894a965f27908103e01799\n",
            "Successfully built mmh3\n",
            "Installing collected packages: mmh3, creme\n",
            "Successfully installed creme-0.6.1 mmh3-2.5.1\n"
          ]
        }
      ]
    },
    {
      "cell_type": "code",
      "metadata": {
        "id": "dEnxRutMcX0b"
      },
      "source": [
        "# Importing the dependencies\n",
        "import creme\n",
        "from creme import compose\n",
        "from creme import datasets\n",
        "from creme import linear_model\n",
        "from creme import metrics\n",
        "from creme import preprocessing"
      ],
      "execution_count": 17,
      "outputs": []
    },
    {
      "cell_type": "code",
      "metadata": {
        "id": "qNMVVCSwnLGU"
      },
      "source": [
        "# Importing the dataset\n",
        "X_y = datasets.Phishing()"
      ],
      "execution_count": 16,
      "outputs": []
    },
    {
      "cell_type": "code",
      "metadata": {
        "id": "N5G2Z758nSIs"
      },
      "source": [
        "# Model\n",
        "model = compose.Pipeline(\n",
        "    preprocessing.StandardScaler(),\n",
        "    linear_model.LogisticRegression()\n",
        ")"
      ],
      "execution_count": 18,
      "outputs": []
    },
    {
      "cell_type": "code",
      "metadata": {
        "id": "WOJsqo8poB-R"
      },
      "source": [
        "# Initializing the metric\n",
        "metric = metrics.Accuracy()"
      ],
      "execution_count": 19,
      "outputs": []
    },
    {
      "cell_type": "code",
      "metadata": {
        "id": "gI8mjXhSoJx-"
      },
      "source": [
        "# Fit, predict and update\n",
        "for x,y in X_y:\n",
        "  y_pred = model.predict_one(x)\n",
        "  metric = metric.update(y, y_pred)\n",
        "  model = model.fit_one(x,y)"
      ],
      "execution_count": 20,
      "outputs": []
    },
    {
      "cell_type": "code",
      "metadata": {
        "colab": {
          "base_uri": "https://localhost:8080/"
        },
        "id": "OtR4ZELJojR1",
        "outputId": "3ae74ce0-b72f-457d-f47b-bf3088b2701a"
      },
      "source": [
        "# Lets see the results\n",
        "metric"
      ],
      "execution_count": 22,
      "outputs": [
        {
          "output_type": "execute_result",
          "data": {
            "text/plain": [
              "Accuracy: 89.20%"
            ]
          },
          "metadata": {},
          "execution_count": 22
        }
      ]
    }
  ]
}