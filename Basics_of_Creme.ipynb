{
  "nbformat": 4,
  "nbformat_minor": 0,
  "metadata": {
    "colab": {
      "name": "Basics of Creme",
      "provenance": [],
      "authorship_tag": "ABX9TyPsF8UUIZdkgGildUA1RRY3",
      "include_colab_link": true
    },
    "kernelspec": {
      "name": "python3",
      "display_name": "Python 3"
    },
    "language_info": {
      "name": "python"
    }
  },
  "cells": [
    {
      "cell_type": "markdown",
      "metadata": {
        "id": "view-in-github",
        "colab_type": "text"
      },
      "source": [
        "<a href=\"https://colab.research.google.com/github/swarnava-96/Incremental-Model-Retraining-with-Creme/blob/main/Basics_of_Creme.ipynb\" target=\"_parent\"><img src=\"https://colab.research.google.com/assets/colab-badge.svg\" alt=\"Open In Colab\"/></a>"
      ]
    },
    {
      "cell_type": "markdown",
      "metadata": {
        "id": "74Y7huQkcH8M"
      },
      "source": [
        "# **Incremental Model Retraining with Creme**"
      ]
    },
    {
      "cell_type": "code",
      "metadata": {
        "colab": {
          "base_uri": "https://localhost:8080/"
        },
        "id": "Qy80-WFAcRCN",
        "outputId": "bd419e2e-63e4-4a22-d881-903f3424c82b"
      },
      "source": [
        "# Lets install the Creme library\n",
        "!pip install creme"
      ],
      "execution_count": 1,
      "outputs": [
        {
          "output_type": "stream",
          "name": "stdout",
          "text": [
            "Collecting creme\n",
            "  Downloading creme-0.6.1-cp37-cp37m-manylinux2010_x86_64.whl (1.1 MB)\n",
            "\u001b[?25l\r\u001b[K     |▎                               | 10 kB 25.2 MB/s eta 0:00:01\r\u001b[K     |▋                               | 20 kB 31.0 MB/s eta 0:00:01\r\u001b[K     |▉                               | 30 kB 36.0 MB/s eta 0:00:01\r\u001b[K     |█▏                              | 40 kB 38.0 MB/s eta 0:00:01\r\u001b[K     |█▌                              | 51 kB 39.9 MB/s eta 0:00:01\r\u001b[K     |█▊                              | 61 kB 42.5 MB/s eta 0:00:01\r\u001b[K     |██                              | 71 kB 30.7 MB/s eta 0:00:01\r\u001b[K     |██▍                             | 81 kB 32.0 MB/s eta 0:00:01\r\u001b[K     |██▋                             | 92 kB 33.8 MB/s eta 0:00:01\r\u001b[K     |███                             | 102 kB 30.4 MB/s eta 0:00:01\r\u001b[K     |███▎                            | 112 kB 30.4 MB/s eta 0:00:01\r\u001b[K     |███▌                            | 122 kB 30.4 MB/s eta 0:00:01\r\u001b[K     |███▉                            | 133 kB 30.4 MB/s eta 0:00:01\r\u001b[K     |████                            | 143 kB 30.4 MB/s eta 0:00:01\r\u001b[K     |████▍                           | 153 kB 30.4 MB/s eta 0:00:01\r\u001b[K     |████▊                           | 163 kB 30.4 MB/s eta 0:00:01\r\u001b[K     |█████                           | 174 kB 30.4 MB/s eta 0:00:01\r\u001b[K     |█████▎                          | 184 kB 30.4 MB/s eta 0:00:01\r\u001b[K     |█████▋                          | 194 kB 30.4 MB/s eta 0:00:01\r\u001b[K     |█████▉                          | 204 kB 30.4 MB/s eta 0:00:01\r\u001b[K     |██████▏                         | 215 kB 30.4 MB/s eta 0:00:01\r\u001b[K     |██████▌                         | 225 kB 30.4 MB/s eta 0:00:01\r\u001b[K     |██████▊                         | 235 kB 30.4 MB/s eta 0:00:01\r\u001b[K     |███████                         | 245 kB 30.4 MB/s eta 0:00:01\r\u001b[K     |███████▍                        | 256 kB 30.4 MB/s eta 0:00:01\r\u001b[K     |███████▋                        | 266 kB 30.4 MB/s eta 0:00:01\r\u001b[K     |████████                        | 276 kB 30.4 MB/s eta 0:00:01\r\u001b[K     |████████▏                       | 286 kB 30.4 MB/s eta 0:00:01\r\u001b[K     |████████▌                       | 296 kB 30.4 MB/s eta 0:00:01\r\u001b[K     |████████▉                       | 307 kB 30.4 MB/s eta 0:00:01\r\u001b[K     |█████████                       | 317 kB 30.4 MB/s eta 0:00:01\r\u001b[K     |█████████▍                      | 327 kB 30.4 MB/s eta 0:00:01\r\u001b[K     |█████████▊                      | 337 kB 30.4 MB/s eta 0:00:01\r\u001b[K     |██████████                      | 348 kB 30.4 MB/s eta 0:00:01\r\u001b[K     |██████████▎                     | 358 kB 30.4 MB/s eta 0:00:01\r\u001b[K     |██████████▋                     | 368 kB 30.4 MB/s eta 0:00:01\r\u001b[K     |██████████▉                     | 378 kB 30.4 MB/s eta 0:00:01\r\u001b[K     |███████████▏                    | 389 kB 30.4 MB/s eta 0:00:01\r\u001b[K     |███████████▍                    | 399 kB 30.4 MB/s eta 0:00:01\r\u001b[K     |███████████▊                    | 409 kB 30.4 MB/s eta 0:00:01\r\u001b[K     |████████████                    | 419 kB 30.4 MB/s eta 0:00:01\r\u001b[K     |████████████▎                   | 430 kB 30.4 MB/s eta 0:00:01\r\u001b[K     |████████████▋                   | 440 kB 30.4 MB/s eta 0:00:01\r\u001b[K     |█████████████                   | 450 kB 30.4 MB/s eta 0:00:01\r\u001b[K     |█████████████▏                  | 460 kB 30.4 MB/s eta 0:00:01\r\u001b[K     |█████████████▌                  | 471 kB 30.4 MB/s eta 0:00:01\r\u001b[K     |█████████████▉                  | 481 kB 30.4 MB/s eta 0:00:01\r\u001b[K     |██████████████                  | 491 kB 30.4 MB/s eta 0:00:01\r\u001b[K     |██████████████▍                 | 501 kB 30.4 MB/s eta 0:00:01\r\u001b[K     |██████████████▊                 | 512 kB 30.4 MB/s eta 0:00:01\r\u001b[K     |███████████████                 | 522 kB 30.4 MB/s eta 0:00:01\r\u001b[K     |███████████████▎                | 532 kB 30.4 MB/s eta 0:00:01\r\u001b[K     |███████████████▌                | 542 kB 30.4 MB/s eta 0:00:01\r\u001b[K     |███████████████▉                | 552 kB 30.4 MB/s eta 0:00:01\r\u001b[K     |████████████████▏               | 563 kB 30.4 MB/s eta 0:00:01\r\u001b[K     |████████████████▍               | 573 kB 30.4 MB/s eta 0:00:01\r\u001b[K     |████████████████▊               | 583 kB 30.4 MB/s eta 0:00:01\r\u001b[K     |█████████████████               | 593 kB 30.4 MB/s eta 0:00:01\r\u001b[K     |█████████████████▎              | 604 kB 30.4 MB/s eta 0:00:01\r\u001b[K     |█████████████████▋              | 614 kB 30.4 MB/s eta 0:00:01\r\u001b[K     |██████████████████              | 624 kB 30.4 MB/s eta 0:00:01\r\u001b[K     |██████████████████▏             | 634 kB 30.4 MB/s eta 0:00:01\r\u001b[K     |██████████████████▌             | 645 kB 30.4 MB/s eta 0:00:01\r\u001b[K     |██████████████████▊             | 655 kB 30.4 MB/s eta 0:00:01\r\u001b[K     |███████████████████             | 665 kB 30.4 MB/s eta 0:00:01\r\u001b[K     |███████████████████▍            | 675 kB 30.4 MB/s eta 0:00:01\r\u001b[K     |███████████████████▋            | 686 kB 30.4 MB/s eta 0:00:01\r\u001b[K     |████████████████████            | 696 kB 30.4 MB/s eta 0:00:01\r\u001b[K     |████████████████████▎           | 706 kB 30.4 MB/s eta 0:00:01\r\u001b[K     |████████████████████▌           | 716 kB 30.4 MB/s eta 0:00:01\r\u001b[K     |████████████████████▉           | 727 kB 30.4 MB/s eta 0:00:01\r\u001b[K     |█████████████████████▏          | 737 kB 30.4 MB/s eta 0:00:01\r\u001b[K     |█████████████████████▍          | 747 kB 30.4 MB/s eta 0:00:01\r\u001b[K     |█████████████████████▊          | 757 kB 30.4 MB/s eta 0:00:01\r\u001b[K     |██████████████████████          | 768 kB 30.4 MB/s eta 0:00:01\r\u001b[K     |██████████████████████▎         | 778 kB 30.4 MB/s eta 0:00:01\r\u001b[K     |██████████████████████▋         | 788 kB 30.4 MB/s eta 0:00:01\r\u001b[K     |██████████████████████▉         | 798 kB 30.4 MB/s eta 0:00:01\r\u001b[K     |███████████████████████▏        | 808 kB 30.4 MB/s eta 0:00:01\r\u001b[K     |███████████████████████▌        | 819 kB 30.4 MB/s eta 0:00:01\r\u001b[K     |███████████████████████▊        | 829 kB 30.4 MB/s eta 0:00:01\r\u001b[K     |████████████████████████        | 839 kB 30.4 MB/s eta 0:00:01\r\u001b[K     |████████████████████████▍       | 849 kB 30.4 MB/s eta 0:00:01\r\u001b[K     |████████████████████████▋       | 860 kB 30.4 MB/s eta 0:00:01\r\u001b[K     |█████████████████████████       | 870 kB 30.4 MB/s eta 0:00:01\r\u001b[K     |█████████████████████████▎      | 880 kB 30.4 MB/s eta 0:00:01\r\u001b[K     |█████████████████████████▌      | 890 kB 30.4 MB/s eta 0:00:01\r\u001b[K     |█████████████████████████▉      | 901 kB 30.4 MB/s eta 0:00:01\r\u001b[K     |██████████████████████████▏     | 911 kB 30.4 MB/s eta 0:00:01\r\u001b[K     |██████████████████████████▍     | 921 kB 30.4 MB/s eta 0:00:01\r\u001b[K     |██████████████████████████▊     | 931 kB 30.4 MB/s eta 0:00:01\r\u001b[K     |███████████████████████████     | 942 kB 30.4 MB/s eta 0:00:01\r\u001b[K     |███████████████████████████▎    | 952 kB 30.4 MB/s eta 0:00:01\r\u001b[K     |███████████████████████████▋    | 962 kB 30.4 MB/s eta 0:00:01\r\u001b[K     |███████████████████████████▉    | 972 kB 30.4 MB/s eta 0:00:01\r\u001b[K     |████████████████████████████▏   | 983 kB 30.4 MB/s eta 0:00:01\r\u001b[K     |████████████████████████████▌   | 993 kB 30.4 MB/s eta 0:00:01\r\u001b[K     |████████████████████████████▊   | 1.0 MB 30.4 MB/s eta 0:00:01\r\u001b[K     |█████████████████████████████   | 1.0 MB 30.4 MB/s eta 0:00:01\r\u001b[K     |█████████████████████████████▍  | 1.0 MB 30.4 MB/s eta 0:00:01\r\u001b[K     |█████████████████████████████▋  | 1.0 MB 30.4 MB/s eta 0:00:01\r\u001b[K     |██████████████████████████████  | 1.0 MB 30.4 MB/s eta 0:00:01\r\u001b[K     |██████████████████████████████▏ | 1.1 MB 30.4 MB/s eta 0:00:01\r\u001b[K     |██████████████████████████████▌ | 1.1 MB 30.4 MB/s eta 0:00:01\r\u001b[K     |██████████████████████████████▉ | 1.1 MB 30.4 MB/s eta 0:00:01\r\u001b[K     |███████████████████████████████ | 1.1 MB 30.4 MB/s eta 0:00:01\r\u001b[K     |███████████████████████████████▍| 1.1 MB 30.4 MB/s eta 0:00:01\r\u001b[K     |███████████████████████████████▊| 1.1 MB 30.4 MB/s eta 0:00:01\r\u001b[K     |████████████████████████████████| 1.1 MB 30.4 MB/s eta 0:00:01\r\u001b[K     |████████████████████████████████| 1.1 MB 30.4 MB/s \n",
            "\u001b[?25hRequirement already satisfied: pandas>=1.0.1 in /usr/local/lib/python3.7/dist-packages (from creme) (1.1.5)\n",
            "Collecting mmh3==2.5.1\n",
            "  Downloading mmh3-2.5.1.tar.gz (9.8 kB)\n",
            "Requirement already satisfied: scipy>=1.4.1 in /usr/local/lib/python3.7/dist-packages (from creme) (1.4.1)\n",
            "Requirement already satisfied: numpy>=1.18.1 in /usr/local/lib/python3.7/dist-packages (from creme) (1.19.5)\n",
            "Requirement already satisfied: python-dateutil>=2.7.3 in /usr/local/lib/python3.7/dist-packages (from pandas>=1.0.1->creme) (2.8.2)\n",
            "Requirement already satisfied: pytz>=2017.2 in /usr/local/lib/python3.7/dist-packages (from pandas>=1.0.1->creme) (2018.9)\n",
            "Requirement already satisfied: six>=1.5 in /usr/local/lib/python3.7/dist-packages (from python-dateutil>=2.7.3->pandas>=1.0.1->creme) (1.15.0)\n",
            "Building wheels for collected packages: mmh3\n",
            "  Building wheel for mmh3 (setup.py) ... \u001b[?25l\u001b[?25hdone\n",
            "  Created wheel for mmh3: filename=mmh3-2.5.1-cp37-cp37m-linux_x86_64.whl size=39688 sha256=a195904b7e9ecf15a8098953b4aab2404762b78e371366f60db6071884a7f595\n",
            "  Stored in directory: /root/.cache/pip/wheels/ae/45/25/90e097a519143b2dca74cd93a056894a965f27908103e01799\n",
            "Successfully built mmh3\n",
            "Installing collected packages: mmh3, creme\n",
            "Successfully installed creme-0.6.1 mmh3-2.5.1\n"
          ]
        }
      ]
    },
    {
      "cell_type": "code",
      "metadata": {
        "id": "dEnxRutMcX0b"
      },
      "source": [
        "# Importing the dependencies\n",
        "import creme\n",
        "import math\n",
        "from creme import compose\n",
        "from creme import feature_extraction\n",
        "from creme import naive_bayes"
      ],
      "execution_count": 5,
      "outputs": []
    },
    {
      "cell_type": "code",
      "metadata": {
        "id": "zjC7ZmOVcwPW"
      },
      "source": [
        "# Input features -> i/p should be in tuples\n",
        "docs = [   ('Chinese Beijing Chinese', 'yes'),\n",
        " ('Chinese Chinese Shanghai', 'yes'),\n",
        "('Chinese Macao', 'yes'),\n",
        "('Tokyo Japan Chinese', 'no')\n",
        "]"
      ],
      "execution_count": 3,
      "outputs": []
    },
    {
      "cell_type": "code",
      "metadata": {
        "colab": {
          "base_uri": "https://localhost:8080/"
        },
        "id": "XvLfpBYxdEM0",
        "outputId": "ca30cdae-02d8-4613-8245-0cf5804354be"
      },
      "source": [
        "# Lets see the input features\n",
        "docs"
      ],
      "execution_count": 4,
      "outputs": [
        {
          "output_type": "execute_result",
          "data": {
            "text/plain": [
              "[('Chinese Beijing Chinese', 'yes'),\n",
              " ('Chinese Chinese Shanghai', 'yes'),\n",
              " ('Chinese Macao', 'yes'),\n",
              " ('Tokyo Japan Chinese', 'no')]"
            ]
          },
          "metadata": {},
          "execution_count": 4
        }
      ]
    },
    {
      "cell_type": "code",
      "metadata": {
        "id": "TMnpQQTIdq11"
      },
      "source": [
        "# Pipeline\n",
        "model = compose.Pipeline(\n",
        "    (\"tokenize\", feature_extraction.BagOfWords(lowercase = False)),\n",
        "    (\"nb\", naive_bayes.MultinomialNB(alpha = 1))\n",
        ")"
      ],
      "execution_count": 8,
      "outputs": []
    },
    {
      "cell_type": "code",
      "metadata": {
        "colab": {
          "base_uri": "https://localhost:8080/"
        },
        "id": "e7DYIzQ5eoEG",
        "outputId": "44221fc6-a38f-45c6-9d6b-23e99366ed4b"
      },
      "source": [
        "# Model fitting/retraining\n",
        "%%time\n",
        "for sentence, label in docs:\n",
        "  model = model.fit_one(sentence, label)"
      ],
      "execution_count": 9,
      "outputs": [
        {
          "output_type": "stream",
          "name": "stdout",
          "text": [
            "CPU times: user 303 µs, sys: 54 µs, total: 357 µs\n",
            "Wall time: 360 µs\n"
          ]
        }
      ]
    },
    {
      "cell_type": "code",
      "metadata": {
        "id": "jGHCn4ThkVe9"
      },
      "source": [
        "# New data\n",
        "new_unseen_data = \"Tokyo India\""
      ],
      "execution_count": 10,
      "outputs": []
    },
    {
      "cell_type": "code",
      "metadata": {
        "colab": {
          "base_uri": "https://localhost:8080/",
          "height": 35
        },
        "id": "MHY3782ZkhNg",
        "outputId": "144e70ed-162d-46c0-e5c4-cb79bb947e2a"
      },
      "source": [
        "# Prediction\n",
        "model.predict_one(new_unseen_data)"
      ],
      "execution_count": 11,
      "outputs": [
        {
          "output_type": "execute_result",
          "data": {
            "application/vnd.google.colaboratory.intrinsic+json": {
              "type": "string"
            },
            "text/plain": [
              "'no'"
            ]
          },
          "metadata": {},
          "execution_count": 11
        }
      ]
    },
    {
      "cell_type": "markdown",
      "metadata": {
        "id": "UU1-32Mekxtn"
      },
      "source": [
        "It predicts no bacause Tokyo has the label \"no\" and India is not present in our docs, hence considers it 0."
      ]
    },
    {
      "cell_type": "markdown",
      "metadata": {
        "id": "BZTF6cAilFWh"
      },
      "source": [
        "### Training on a new data and new category"
      ]
    },
    {
      "cell_type": "code",
      "metadata": {
        "colab": {
          "base_uri": "https://localhost:8080/"
        },
        "id": "-cm5iLM_lOXs",
        "outputId": "d543b36d-c993-45aa-c8fd-f401f49d3bcc"
      },
      "source": [
        "# Model fitting/retraining\n",
        "model.fit_one(\"India USA\",\"may be\")"
      ],
      "execution_count": 12,
      "outputs": [
        {
          "output_type": "execute_result",
          "data": {
            "text/plain": [
              "Pipeline (\n",
              "  BagOfWords (\n",
              "    on=None\n",
              "    strip_accents=True\n",
              "    lowercase=False\n",
              "    preprocessor=None\n",
              "    tokenizer=<built-in method findall of re.Pattern object at 0x7f2fbaa909f0>\n",
              "    ngram_range=(1, 1)\n",
              "  ),\n",
              "  MultinomialNB (\n",
              "    alpha=1\n",
              "  )\n",
              ")"
            ]
          },
          "metadata": {},
          "execution_count": 12
        }
      ]
    },
    {
      "cell_type": "code",
      "metadata": {
        "colab": {
          "base_uri": "https://localhost:8080/",
          "height": 35
        },
        "id": "k3bb2YmxlbKc",
        "outputId": "4f224c40-7b9b-408f-b86e-7a22f444ae47"
      },
      "source": [
        "# Prediction\n",
        "model.predict_one(\"India Germany\")"
      ],
      "execution_count": 13,
      "outputs": [
        {
          "output_type": "execute_result",
          "data": {
            "application/vnd.google.colaboratory.intrinsic+json": {
              "type": "string"
            },
            "text/plain": [
              "'may be'"
            ]
          },
          "metadata": {},
          "execution_count": 13
        }
      ]
    },
    {
      "cell_type": "markdown",
      "metadata": {
        "id": "RPXHqlHNllm9"
      },
      "source": [
        "Now, it predicts \"may be\" bacause India has the label \"may be\" whereas USA is not present in our docs, hence considers it 0."
      ]
    }
  ]
}